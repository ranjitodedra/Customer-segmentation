{
 "cells": [
  {
   "cell_type": "code",
   "execution_count": null,
   "metadata": {
    "_cell_guid": "b1076dfc-b9ad-4769-8c92-a6c4dae69d19",
    "_uuid": "8f2839f25d086af736a60e9eeb907d3b93b6e0e5",
    "execution": {
     "iopub.execute_input": "2023-09-28T05:13:23.075396Z",
     "iopub.status.busy": "2023-09-28T05:13:23.074633Z",
     "iopub.status.idle": "2023-09-28T05:13:25.797762Z",
     "shell.execute_reply": "2023-09-28T05:13:25.796361Z",
     "shell.execute_reply.started": "2023-09-28T05:13:23.075335Z"
    }
   },
   "outputs": [],
   "source": [
    "import numpy as np\n",
    "import pandas as pd\n",
    "import matplotlib.pyplot as plt\n",
    "import seaborn as sns\n",
    "import plotly as py\n",
    "import plotly.graph_objs as go\n",
    "from sklearn.cluster import KMeans\n",
    "import warnings\n",
    "import os"
   ]
  },
  {
   "cell_type": "markdown",
   "metadata": {},
   "source": [
    "# Load the dataset"
   ]
  },
  {
   "cell_type": "code",
   "execution_count": null,
   "metadata": {
    "execution": {
     "iopub.execute_input": "2023-09-28T05:17:18.967732Z",
     "iopub.status.busy": "2023-09-28T05:17:18.967333Z",
     "iopub.status.idle": "2023-09-28T05:17:19.009574Z",
     "shell.execute_reply": "2023-09-28T05:17:19.008410Z",
     "shell.execute_reply.started": "2023-09-28T05:17:18.967703Z"
    }
   },
   "outputs": [],
   "source": [
    "path = \"/kaggle/input/customer-segmentation-tutorial-in-python/Mall_Customers.csv\"\n",
    "mall_customers_df =  pd.read_csv(path)\n",
    "mall_customers_df.head()"
   ]
  },
  {
   "cell_type": "markdown",
   "metadata": {},
   "source": [
    "# Display basic information about the dataset"
   ]
  },
  {
   "cell_type": "code",
   "execution_count": null,
   "metadata": {
    "execution": {
     "iopub.execute_input": "2023-09-28T05:18:50.761688Z",
     "iopub.status.busy": "2023-09-28T05:18:50.761273Z",
     "iopub.status.idle": "2023-09-28T05:18:50.767611Z",
     "shell.execute_reply": "2023-09-28T05:18:50.766419Z",
     "shell.execute_reply.started": "2023-09-28T05:18:50.761652Z"
    }
   },
   "outputs": [],
   "source": [
    "print(\"Shape of the dataset:\", mall_customers_df.shape)"
   ]
  },
  {
   "cell_type": "code",
   "execution_count": null,
   "metadata": {
    "execution": {
     "iopub.execute_input": "2023-09-28T05:19:20.795753Z",
     "iopub.status.busy": "2023-09-28T05:19:20.795349Z",
     "iopub.status.idle": "2023-09-28T05:19:20.816214Z",
     "shell.execute_reply": "2023-09-28T05:19:20.814819Z",
     "shell.execute_reply.started": "2023-09-28T05:19:20.795725Z"
    }
   },
   "outputs": [],
   "source": [
    "print(\"Description of the dataset:\")\n",
    "print(mall_customers_df.describe())"
   ]
  },
  {
   "cell_type": "code",
   "execution_count": null,
   "metadata": {
    "execution": {
     "iopub.execute_input": "2023-09-28T05:19:31.876034Z",
     "iopub.status.busy": "2023-09-28T05:19:31.875640Z",
     "iopub.status.idle": "2023-09-28T05:19:31.882074Z",
     "shell.execute_reply": "2023-09-28T05:19:31.881269Z",
     "shell.execute_reply.started": "2023-09-28T05:19:31.876005Z"
    }
   },
   "outputs": [],
   "source": [
    "print(\"Data types:\")\n",
    "print(mall_customers_df.dtypes)"
   ]
  },
  {
   "cell_type": "code",
   "execution_count": null,
   "metadata": {
    "execution": {
     "iopub.execute_input": "2023-09-28T05:19:40.031806Z",
     "iopub.status.busy": "2023-09-28T05:19:40.031442Z",
     "iopub.status.idle": "2023-09-28T05:19:40.039155Z",
     "shell.execute_reply": "2023-09-28T05:19:40.037976Z",
     "shell.execute_reply.started": "2023-09-28T05:19:40.031779Z"
    }
   },
   "outputs": [],
   "source": [
    "print(\"Number of missing values:\")\n",
    "print(mall_customers_df.isnull().sum())"
   ]
  },
  {
   "cell_type": "markdown",
   "metadata": {},
   "source": [
    "# Set plotting style"
   ]
  },
  {
   "cell_type": "code",
   "execution_count": null,
   "metadata": {
    "execution": {
     "iopub.execute_input": "2023-09-28T05:20:24.282308Z",
     "iopub.status.busy": "2023-09-28T05:20:24.281906Z",
     "iopub.status.idle": "2023-09-28T05:20:24.288184Z",
     "shell.execute_reply": "2023-09-28T05:20:24.287086Z",
     "shell.execute_reply.started": "2023-09-28T05:20:24.282280Z"
    }
   },
   "outputs": [],
   "source": [
    "plt.style.use('fivethirtyeight')"
   ]
  },
  {
   "cell_type": "markdown",
   "metadata": {},
   "source": [
    "# Plot histograms"
   ]
  },
  {
   "cell_type": "code",
   "execution_count": null,
   "metadata": {
    "execution": {
     "iopub.execute_input": "2023-09-28T05:20:49.682253Z",
     "iopub.status.busy": "2023-09-28T05:20:49.681855Z",
     "iopub.status.idle": "2023-09-28T05:20:50.795518Z",
     "shell.execute_reply": "2023-09-28T05:20:50.794379Z",
     "shell.execute_reply.started": "2023-09-28T05:20:49.682220Z"
    }
   },
   "outputs": [],
   "source": [
    "plt.figure(1, figsize=(15, 6))\n",
    "plot_num = 0\n",
    "for column in ['Age', 'Annual Income (k$)', 'Spending Score (1-100)']:\n",
    "    plot_num += 1\n",
    "    plt.subplot(1, 3, plot_num)\n",
    "    plt.subplots_adjust(hspace=0.5, wspace=0.5)\n",
    "    sns.distplot(mall_customers_df[column], bins=20)\n",
    "    plt.title('Distribution of {}'.format(column))\n",
    "plt.show()"
   ]
  },
  {
   "cell_type": "markdown",
   "metadata": {},
   "source": [
    "# Plot gender distribution"
   ]
  },
  {
   "cell_type": "code",
   "execution_count": null,
   "metadata": {
    "execution": {
     "iopub.execute_input": "2023-09-28T05:21:23.788879Z",
     "iopub.status.busy": "2023-09-28T05:21:23.788470Z",
     "iopub.status.idle": "2023-09-28T05:21:23.975250Z",
     "shell.execute_reply": "2023-09-28T05:21:23.974046Z",
     "shell.execute_reply.started": "2023-09-28T05:21:23.788844Z"
    }
   },
   "outputs": [],
   "source": [
    "plt.figure(1, figsize=(15, 5))\n",
    "sns.countplot(y='Gender', data=mall_customers_df)\n",
    "plt.show()"
   ]
  },
  {
   "cell_type": "markdown",
   "metadata": {},
   "source": [
    "# Scatter plots"
   ]
  },
  {
   "cell_type": "code",
   "execution_count": null,
   "metadata": {
    "execution": {
     "iopub.execute_input": "2023-09-28T05:22:22.827920Z",
     "iopub.status.busy": "2023-09-28T05:22:22.826663Z",
     "iopub.status.idle": "2023-09-28T05:22:23.578007Z",
     "shell.execute_reply": "2023-09-28T05:22:23.576751Z",
     "shell.execute_reply.started": "2023-09-28T05:22:22.827878Z"
    }
   },
   "outputs": [],
   "source": [
    "plt.figure(1, figsize=(15, 6))\n",
    "for gender in ['Male', 'Female']:\n",
    "    plt.scatter(\n",
    "        x='Age',\n",
    "        y='Annual Income (k$)',\n",
    "        data=mall_customers_df[mall_customers_df['Gender'] == gender],\n",
    "        s=200,\n",
    "        alpha=0.5,\n",
    "        label=gender\n",
    "    )\n",
    "plt.xlabel('Age')\n",
    "plt.ylabel('Annual Income (k$)')\n",
    "plt.title('Age vs Annual Income with Gender')\n",
    "plt.legend()\n",
    "plt.show()# Scatter plots\n",
    "plt.figure(1, figsize=(15, 6))\n",
    "for gender in ['Male', 'Female']:\n",
    "    plt.scatter(\n",
    "        x='Age',\n",
    "        y='Annual Income (k$)',\n",
    "        data=mall_customers_df[mall_customers_df['Gender'] == gender],\n",
    "        s=200,\n",
    "        alpha=0.5,\n",
    "        label=gender\n",
    "    )\n",
    "plt.xlabel('Age')\n",
    "plt.ylabel('Annual Income (k$)')\n",
    "plt.title('Age vs Annual Income with Gender')\n",
    "plt.legend()\n",
    "plt.show()"
   ]
  },
  {
   "cell_type": "code",
   "execution_count": null,
   "metadata": {
    "execution": {
     "iopub.execute_input": "2023-09-28T05:23:25.826285Z",
     "iopub.status.busy": "2023-09-28T05:23:25.825870Z",
     "iopub.status.idle": "2023-09-28T05:23:26.201597Z",
     "shell.execute_reply": "2023-09-28T05:23:26.200459Z",
     "shell.execute_reply.started": "2023-09-28T05:23:25.826249Z"
    }
   },
   "outputs": [],
   "source": [
    "plt.figure(1, figsize=(15, 6))\n",
    "for gender in ['Male', 'Female']:\n",
    "    plt.scatter(\n",
    "        x='Annual Income (k$)',\n",
    "        y='Spending Score (1-100)',\n",
    "        data=mall_customers_df[mall_customers_df['Gender'] == gender],\n",
    "        s=200,\n",
    "        alpha=0.5,\n",
    "        label=gender\n",
    "    )\n",
    "plt.xlabel('Annual Income (k$)')\n",
    "plt.ylabel('Spending Score (1-100)')\n",
    "plt.title('Annual Income vs Spending Score with Gender')\n",
    "plt.legend()\n",
    "plt.show()"
   ]
  },
  {
   "cell_type": "markdown",
   "metadata": {},
   "source": [
    "# Violin and swarm plots"
   ]
  },
  {
   "cell_type": "code",
   "execution_count": null,
   "metadata": {
    "execution": {
     "iopub.execute_input": "2023-09-28T05:24:25.098423Z",
     "iopub.status.busy": "2023-09-28T05:24:25.097258Z",
     "iopub.status.idle": "2023-09-28T05:24:27.288497Z",
     "shell.execute_reply": "2023-09-28T05:24:27.287564Z",
     "shell.execute_reply.started": "2023-09-28T05:24:25.098337Z"
    }
   },
   "outputs": [],
   "source": [
    "plt.figure(1, figsize=(15, 7))\n",
    "plot_num = 0\n",
    "for column in ['Age', 'Annual Income (k$)', 'Spending Score (1-100)']:\n",
    "    plot_num += 1\n",
    "    plt.subplot(1, 3, plot_num)\n",
    "    plt.subplots_adjust(hspace=0.5, wspace=0.5)\n",
    "    sns.violinplot(x=column, y='Gender', data=mall_customers_df, palette='vlag')\n",
    "    sns.swarmplot(x=column, y='Gender', data=mall_customers_df)\n",
    "    plt.ylabel('Gender' if plot_num == 1 else '')\n",
    "    plt.title('Boxplots & Swarmplots' if plot_num == 2 else '')\n",
    "plt.show()"
   ]
  },
  {
   "cell_type": "markdown",
   "metadata": {},
   "source": [
    "# K-Means Clustering"
   ]
  },
  {
   "cell_type": "markdown",
   "metadata": {},
   "source": [
    "## Age and Spending Score"
   ]
  },
  {
   "cell_type": "code",
   "execution_count": null,
   "metadata": {
    "execution": {
     "iopub.execute_input": "2023-09-28T05:25:41.837977Z",
     "iopub.status.busy": "2023-09-28T05:25:41.836715Z",
     "iopub.status.idle": "2023-09-28T05:25:43.147272Z",
     "shell.execute_reply": "2023-09-28T05:25:43.146100Z",
     "shell.execute_reply.started": "2023-09-28T05:25:41.837918Z"
    }
   },
   "outputs": [],
   "source": [
    "X_age_spending = mall_customers_df[['Age', 'Spending Score (1-100)']].values\n",
    "inertia_age_spending = []\n",
    "for n_clusters in range(1, 11):\n",
    "    kmeans = KMeans(\n",
    "        n_clusters=n_clusters,\n",
    "        init='k-means++',\n",
    "        n_init=10,\n",
    "        max_iter=300,\n",
    "        tol=0.0001,\n",
    "        random_state=111,\n",
    "        algorithm='elkan'\n",
    "    )\n",
    "    kmeans.fit(X_age_spending)\n",
    "    inertia_age_spending.append(kmeans.inertia_)\n",
    "\n",
    "plt.figure(1, figsize=(15, 6))\n",
    "plt.plot(np.arange(1, 11), inertia_age_spending, 'o')\n",
    "plt.plot(np.arange(1, 11), inertia_age_spending, '-', alpha=0.5)\n",
    "plt.xlabel('Number of Clusters')\n",
    "plt.ylabel('Inertia')\n",
    "plt.show()"
   ]
  },
  {
   "cell_type": "code",
   "execution_count": null,
   "metadata": {
    "execution": {
     "iopub.execute_input": "2023-09-28T05:26:15.852851Z",
     "iopub.status.busy": "2023-09-28T05:26:15.852412Z",
     "iopub.status.idle": "2023-09-28T05:26:15.895569Z",
     "shell.execute_reply": "2023-09-28T05:26:15.894618Z",
     "shell.execute_reply.started": "2023-09-28T05:26:15.852815Z"
    }
   },
   "outputs": [],
   "source": [
    "kmeans_age_spending = KMeans(\n",
    "    n_clusters=4,\n",
    "    init='k-means++',\n",
    "    n_init=10,\n",
    "    max_iter=300,\n",
    "    tol=0.0001,\n",
    "    random_state=111,\n",
    "    algorithm='elkan'\n",
    ")\n",
    "kmeans_age_spending.fit(X_age_spending)\n",
    "labels_age_spending = kmeans_age_spending.labels_\n",
    "centroids_age_spending = kmeans_age_spending.cluster_centers_"
   ]
  },
  {
   "cell_type": "markdown",
   "metadata": {},
   "source": [
    "# Plot K-Means clustering result for Age and Spending Score"
   ]
  },
  {
   "cell_type": "code",
   "execution_count": null,
   "metadata": {
    "execution": {
     "iopub.execute_input": "2023-09-28T05:27:10.252751Z",
     "iopub.status.busy": "2023-09-28T05:27:10.252320Z",
     "iopub.status.idle": "2023-09-28T05:27:10.684463Z",
     "shell.execute_reply": "2023-09-28T05:27:10.683303Z",
     "shell.execute_reply.started": "2023-09-28T05:27:10.252717Z"
    }
   },
   "outputs": [],
   "source": [
    "h = 0.02\n",
    "x_min_age, x_max_age = X_age_spending[:, 0].min() - 1, X_age_spending[:, 0].max() + 1\n",
    "y_min_age, y_max_age = X_age_spending[:, 1].min() - 1, X_age_spending[:, 1].max() + 1\n",
    "xx_age, yy_age = np.meshgrid(np.arange(x_min_age, x_max_age, h), np.arange(y_min_age, y_max_age, h))\n",
    "Z_age_spending = kmeans_age_spending.predict(np.c_[xx_age.ravel(), yy_age.ravel()])\n"
   ]
  },
  {
   "cell_type": "code",
   "execution_count": null,
   "metadata": {
    "execution": {
     "iopub.execute_input": "2023-09-28T05:27:40.782808Z",
     "iopub.status.busy": "2023-09-28T05:27:40.782336Z",
     "iopub.status.idle": "2023-09-28T05:27:41.390500Z",
     "shell.execute_reply": "2023-09-28T05:27:41.389405Z",
     "shell.execute_reply.started": "2023-09-28T05:27:40.782767Z"
    }
   },
   "outputs": [],
   "source": [
    "plt.figure(1, figsize=(15, 7))\n",
    "plt.clf()\n",
    "Z_age_spending = Z_age_spending.reshape(xx_age.shape)\n",
    "plt.imshow(\n",
    "    Z_age_spending,\n",
    "    interpolation='nearest',\n",
    "    extent=(xx_age.min(), xx_age.max(), yy_age.min(), yy_age.max()),\n",
    "    cmap=plt.cm.Pastel2,\n",
    "    aspect='auto',\n",
    "    origin='lower'\n",
    ")\n",
    "\n",
    "plt.scatter(\n",
    "    x='Age',\n",
    "    y='Spending Score (1-100)',\n",
    "    data=mall_customers_df,\n",
    "    c=labels_age_spending,\n",
    "    s=200\n",
    ")\n",
    "plt.scatter(\n",
    "    x=centroids_age_spending[:, 0],\n",
    "    y=centroids_age_spending[:, 1],\n",
    "    s=300,\n",
    "    c='red',\n",
    "    alpha=0.5\n",
    ")\n",
    "plt.ylabel('Spending Score (1-100)')\n",
    "plt.xlabel('Age')\n",
    "plt.show()"
   ]
  },
  {
   "cell_type": "code",
   "execution_count": null,
   "metadata": {
    "execution": {
     "iopub.execute_input": "2023-09-28T05:29:06.683949Z",
     "iopub.status.busy": "2023-09-28T05:29:06.683554Z",
     "iopub.status.idle": "2023-09-28T05:29:07.324872Z",
     "shell.execute_reply": "2023-09-28T05:29:07.323706Z",
     "shell.execute_reply.started": "2023-09-28T05:29:06.683919Z"
    }
   },
   "outputs": [],
   "source": [
    "# Annual Income and Spending Score\n",
    "X_income_spending = mall_customers_df[['Annual Income (k$)', 'Spending Score (1-100)']].values\n",
    "inertia_income_spending = []\n",
    "for n_clusters in range(1, 11):\n",
    "    kmeans = KMeans(\n",
    "        n_clusters=n_clusters,\n",
    "        init='k-means++',\n",
    "        n_init=10,\n",
    "        max_iter=300,\n",
    "        tol=0.0001,\n",
    "        random_state=111,\n",
    "        algorithm='elkan'\n",
    "    )\n",
    "    kmeans.fit(X_income_spending)\n",
    "    inertia_income_spending.append(kmeans.inertia_)\n",
    "\n",
    "plt.figure(1, figsize=(15, 6))\n",
    "plt.plot(np.arange(1, 11), inertia_income_spending, 'o')\n",
    "plt.plot(np.arange(1, 11), inertia_income_spending, '-', alpha=0.5)\n",
    "plt.xlabel('Number of Clusters')\n",
    "plt.ylabel('Inertia')\n",
    "plt.show()"
   ]
  },
  {
   "cell_type": "code",
   "execution_count": null,
   "metadata": {
    "execution": {
     "iopub.execute_input": "2023-09-28T05:29:37.455564Z",
     "iopub.status.busy": "2023-09-28T05:29:37.455140Z",
     "iopub.status.idle": "2023-09-28T05:29:37.492945Z",
     "shell.execute_reply": "2023-09-28T05:29:37.492002Z",
     "shell.execute_reply.started": "2023-09-28T05:29:37.455530Z"
    }
   },
   "outputs": [],
   "source": [
    "kmeans_income_spending = KMeans(\n",
    "    n_clusters=5,\n",
    "    init='k-means++',\n",
    "    n_init=10,\n",
    "    max_iter=300,\n",
    "    tol=0.0001,\n",
    "    random_state=111,\n",
    "    algorithm='elkan'\n",
    ")\n",
    "kmeans_income_spending.fit(X_income_spending)\n",
    "labels_income_spending = kmeans_income_spending.labels_\n",
    "centroids_income_spending = kmeans_income_spending.cluster_centers_"
   ]
  },
  {
   "cell_type": "markdown",
   "metadata": {},
   "source": [
    "# Plot K-Means clustering result for Annual Income and Spending Score"
   ]
  },
  {
   "cell_type": "code",
   "execution_count": null,
   "metadata": {
    "execution": {
     "iopub.execute_input": "2023-09-28T05:30:10.515161Z",
     "iopub.status.busy": "2023-09-28T05:30:10.514722Z",
     "iopub.status.idle": "2023-09-28T05:30:11.469075Z",
     "shell.execute_reply": "2023-09-28T05:30:11.468061Z",
     "shell.execute_reply.started": "2023-09-28T05:30:10.515127Z"
    }
   },
   "outputs": [],
   "source": [
    "h = 0.02\n",
    "x_min_income, x_max_income = X_income_spending[:, 0].min() - 1, X_income_spending[:, 0].max() + 1\n",
    "y_min_income, y_max_income = X_income_spending[:, 1].min() - 1, X_income_spending[:, 1].max() + 1\n",
    "xx_income, yy_income = np.meshgrid(np.arange(x_min_income, x_max_income, h), np.arange(y_min_income, y_max_income, h))\n",
    "Z_income_spending = kmeans_income_spending.predict(np.c_[xx_income.ravel(), yy_income.ravel()])"
   ]
  },
  {
   "cell_type": "code",
   "execution_count": null,
   "metadata": {
    "execution": {
     "iopub.execute_input": "2023-09-28T05:31:08.771131Z",
     "iopub.status.busy": "2023-09-28T05:31:08.770739Z",
     "iopub.status.idle": "2023-09-28T05:31:09.625260Z",
     "shell.execute_reply": "2023-09-28T05:31:09.624424Z",
     "shell.execute_reply.started": "2023-09-28T05:31:08.771104Z"
    }
   },
   "outputs": [],
   "source": [
    "plt.figure(1, figsize=(15, 7))\n",
    "plt.clf()\n",
    "Z_income_spending = Z_income_spending.reshape(xx_income.shape)\n",
    "plt.imshow(\n",
    "    Z_income_spending,\n",
    "    interpolation='nearest',\n",
    "    extent=(xx_income.min(), xx_income.max(), yy_income.min(), yy_income.max()),\n",
    "    cmap=plt.cm.Pastel2,\n",
    "    aspect='auto',\n",
    "    origin='lower'\n",
    ")\n",
    "\n",
    "plt.scatter(\n",
    "    x='Annual Income (k$)',\n",
    "    y='Spending Score (1-100)',\n",
    "    data=mall_customers_df,\n",
    "    c=labels_income_spending,\n",
    "    s=200\n",
    ")\n",
    "plt.scatter(\n",
    "    x=centroids_income_spending[:, 0],\n",
    "    y=centroids_income_spending[:, 1],\n",
    "    s=300,\n",
    "    c='red',\n",
    "    alpha=0.5\n",
    ")\n",
    "plt.ylabel('Spending Score (1-100)')\n",
    "plt.xlabel('Annual Income (k$)')\n",
    "plt.show()"
   ]
  },
  {
   "cell_type": "markdown",
   "metadata": {},
   "source": [
    "# Age, Annual Income, and Spending Score"
   ]
  },
  {
   "cell_type": "code",
   "execution_count": null,
   "metadata": {
    "execution": {
     "iopub.execute_input": "2023-09-28T05:32:17.134021Z",
     "iopub.status.busy": "2023-09-28T05:32:17.133540Z",
     "iopub.status.idle": "2023-09-28T05:32:17.757825Z",
     "shell.execute_reply": "2023-09-28T05:32:17.756689Z",
     "shell.execute_reply.started": "2023-09-28T05:32:17.133984Z"
    }
   },
   "outputs": [],
   "source": [
    "X_age_income_spending = mall_customers_df[['Age', 'Annual Income (k$)', 'Spending Score (1-100)']].values\n",
    "inertia_age_income_spending = []\n",
    "for n_clusters in range(1, 11):\n",
    "    kmeans = KMeans(\n",
    "        n_clusters=n_clusters,\n",
    "        init='k-means++',\n",
    "        n_init=10,\n",
    "        max_iter=300,\n",
    "        tol=0.0001,\n",
    "        random_state=111,\n",
    "        algorithm='elkan'\n",
    "    )\n",
    "    kmeans.fit(X_age_income_spending)\n",
    "    inertia_age_income_spending.append(kmeans.inertia_)\n",
    "\n",
    "plt.figure(1, figsize=(15, 6))\n",
    "plt.plot(np.arange(1, 11), inertia_age_income_spending, 'o')\n",
    "plt.plot(np.arange(1, 11), inertia_age_income_spending, '-', alpha=0.5)\n",
    "plt.xlabel('Number of Clusters')\n",
    "plt.ylabel('Inertia')\n",
    "plt.show()"
   ]
  },
  {
   "cell_type": "code",
   "execution_count": null,
   "metadata": {
    "execution": {
     "iopub.execute_input": "2023-09-28T05:32:56.120957Z",
     "iopub.status.busy": "2023-09-28T05:32:56.120505Z",
     "iopub.status.idle": "2023-09-28T05:32:56.127003Z",
     "shell.execute_reply": "2023-09-28T05:32:56.125569Z",
     "shell.execute_reply.started": "2023-09-28T05:32:56.120922Z"
    }
   },
   "outputs": [],
   "source": [
    "labels_age_income_spending = kmeans.labels_"
   ]
  },
  {
   "cell_type": "markdown",
   "metadata": {},
   "source": [
    "# 3D Scatter Plot for Age, Annual Income, and Spending Score"
   ]
  },
  {
   "cell_type": "code",
   "execution_count": null,
   "metadata": {
    "execution": {
     "iopub.execute_input": "2023-09-28T05:33:25.718449Z",
     "iopub.status.busy": "2023-09-28T05:33:25.717999Z",
     "iopub.status.idle": "2023-09-28T05:33:27.475719Z",
     "shell.execute_reply": "2023-09-28T05:33:27.474455Z",
     "shell.execute_reply.started": "2023-09-28T05:33:25.718415Z"
    }
   },
   "outputs": [],
   "source": [
    "mall_customers_df['Cluster_Labels'] = labels_age_income_spending\n",
    "trace1 = go.Scatter3d(\n",
    "    x=mall_customers_df['Age'],\n",
    "    y=mall_customers_df['Spending Score (1-100)'],\n",
    "    z=mall_customers_df['Annual Income (k$)'],\n",
    "    mode='markers',\n",
    "    marker=dict(\n",
    "        color=mall_customers_df['Cluster_Labels'],\n",
    "        size=20,\n",
    "        line=dict(\n",
    "            color=mall_customers_df['Cluster_Labels'],\n",
    "            width=12\n",
    "        ),\n",
    "        opacity=0.8\n",
    "    )\n",
    ")\n",
    "data = [trace1]\n",
    "layout = go.Layout(\n",
    "    title='Clusters',\n",
    "    scene=dict(\n",
    "        xaxis=dict(title='Age'),\n",
    "        yaxis=dict(title='Spending Score'),\n",
    "        zaxis=dict(title='Annual Income')\n",
    "    )\n",
    ")\n",
    "fig = go.Figure(data=data, layout=layout)\n",
    "py.offline.iplot(fig)"
   ]
  }
 ],
 "metadata": {
  "kernelspec": {
   "display_name": "Python 3",
   "language": "python",
   "name": "python3"
  },
  "language_info": {
   "codemirror_mode": {
    "name": "ipython",
    "version": 3
   },
   "file_extension": ".py",
   "mimetype": "text/x-python",
   "name": "python",
   "nbconvert_exporter": "python",
   "pygments_lexer": "ipython3",
   "version": "3.8.3"
  }
 },
 "nbformat": 4,
 "nbformat_minor": 4
}
